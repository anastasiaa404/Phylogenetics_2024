{
  "nbformat": 4,
  "nbformat_minor": 0,
  "metadata": {
    "colab": {
      "provenance": []
    },
    "kernelspec": {
      "name": "python3",
      "display_name": "Python 3"
    },
    "language_info": {
      "name": "python"
    }
  },
  "cells": [
    {
      "cell_type": "markdown",
      "source": [
        "**Основные шаги:**\n",
        "- Мутации накапливаются в обеих ветвях эволюции, поэтому скорость мутаций должна быть удвоена.\n",
        "- Итоговая формула для расчета возраста:\n",
        "![Снимок экрана 2024-09-26 221939.png](data:image/png;base64,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)\n"
      ],
      "metadata": {
        "id": "YfCCr_jjxZSa"
      }
    },
    {
      "cell_type": "code",
      "source": [
        "%%capture\n",
        "!wget https://repo.anaconda.com/miniconda/Miniconda3-latest-Linux-x86_64.sh\n",
        "!bash Miniconda3-latest-Linux-x86_64.sh -bfp /usr/local"
      ],
      "metadata": {
        "id": "gqqOKAY2mD2v"
      },
      "execution_count": null,
      "outputs": []
    },
    {
      "cell_type": "code",
      "source": [
        "!pip install biopython\n",
        "!pip install ete3"
      ],
      "metadata": {
        "colab": {
          "base_uri": "https://localhost:8080/"
        },
        "collapsed": true,
        "id": "jprOi5DGoX2Q",
        "outputId": "76aeac4a-eb8f-43d8-9842-a34be1c65760"
      },
      "execution_count": 10,
      "outputs": [
        {
          "output_type": "stream",
          "name": "stdout",
          "text": [
            "Requirement already satisfied: biopython in /usr/local/lib/python3.10/dist-packages (1.84)\n",
            "Requirement already satisfied: numpy in /usr/local/lib/python3.10/dist-packages (from biopython) (1.26.4)\n",
            "Collecting ete3\n",
            "  Downloading ete3-3.1.3.tar.gz (4.8 MB)\n",
            "\u001b[2K     \u001b[90m━━━━━━━━━━━━━━━━━━━━━━━━━━━━━━━━━━━━━━━━\u001b[0m \u001b[32m4.8/4.8 MB\u001b[0m \u001b[31m54.0 MB/s\u001b[0m eta \u001b[36m0:00:00\u001b[0m\n",
            "\u001b[?25h  Preparing metadata (setup.py) ... \u001b[?25l\u001b[?25hdone\n",
            "Building wheels for collected packages: ete3\n",
            "  Building wheel for ete3 (setup.py) ... \u001b[?25l\u001b[?25hdone\n",
            "  Created wheel for ete3: filename=ete3-3.1.3-py3-none-any.whl size=2273788 sha256=62888822a8d34fbc4ae63a6afcf40a940edc523e47645660a1def1b7706ec614\n",
            "  Stored in directory: /root/.cache/pip/wheels/a0/72/00/1982bd848e52b03079dbf800900120bc1c20e92e9a1216e525\n",
            "Successfully built ete3\n",
            "Installing collected packages: ete3\n",
            "Successfully installed ete3-3.1.3\n"
          ]
        }
      ]
    },
    {
      "cell_type": "code",
      "source": [
        "from Bio import AlignIO\n",
        "\n",
        "# Путь к файлу с выравниманием\n",
        "alignment_file = \"/content/aligned.fasta\"\n",
        "\n",
        "# Идентификатор митохондриальной Евы\n",
        "reference_id = \"FJ713601.1\"\n",
        "\n",
        "# Скорость мутаций (мутаций на год) для митохондриального генома (1 мутация на 3000 лет)\n",
        "mutation_rate = 1 / 3000  # мутаций в год\n",
        "\n",
        "# Загружаем выровненные последовательности\n",
        "alignment = AlignIO.read(alignment_file, \"fasta\")\n",
        "\n",
        "# Ищем последовательность митохондриальной Евы по ID\n",
        "mitochondrial_eve = None\n",
        "for record in alignment:\n",
        "    if reference_id in record.id:  # Ищем нужный ID последовательности\n",
        "        mitochondrial_eve = record\n",
        "        break\n",
        "\n",
        "if mitochondrial_eve is None:\n",
        "    raise ValueError(\"Не удалось найти последовательность для митохондриальной Евы\")\n",
        "\n",
        "# Функция для подсчета точечных мутаций между 2мя последовательностями\n",
        "def count_mutations(seq1, seq2):\n",
        "    mutations = 0\n",
        "    for i in range(len(seq1)):\n",
        "        if seq1[i] != seq2[i] and seq1[i] != \"-\" and seq2[i] != \"-\":\n",
        "            mutations += 1\n",
        "    return mutations\n",
        "\n",
        "# Подсчет мутаций для каждой последовательности в сравнении с мит. Евой\n",
        "mutations = []\n",
        "for record in alignment:\n",
        "    if record.id != mitochondrial_eve.id:  # Сравниваем по ID\n",
        "        num_mutations = count_mutations(mitochondrial_eve.seq, record.seq)\n",
        "        mutations.append((record.id, num_mutations))\n",
        "        print(f\"{record.id}: {num_mutations} мутаций\")\n",
        "\n",
        "# Находим максимальное количество мутаций и соответствующую последовательность\n",
        "if mutations:  # Проверяем, есть ли мутации\n",
        "    max_id, max_mutations = max(mutations, key=lambda x: x[1])\n",
        "    print(f\"Максимальное количество мутаций: {max_mutations} (последовательность {max_id})\")\n",
        "\n",
        "# Используем скорость мутаций для оценки возраста\n",
        "# Возраст = (макс. количество мутаций) / (2 * скорость мутаций)\n",
        "# Умножаем скорость на 2, так как мутации происходят по обеим ветвям эволюции\n",
        "estimated_age = max_mutations / (2 * mutation_rate)\n",
        "print(f\"Оценочный возраст митохондриальной Евы: {estimated_age:.0f} лет\")\n"
      ],
      "metadata": {
        "colab": {
          "base_uri": "https://localhost:8080/"
        },
        "id": "e7VE84Y7w8Zb",
        "outputId": "a2af6557-d384-40e6-bf84-8d1b224393bb"
      },
      "execution_count": 9,
      "outputs": [
        {
          "output_type": "stream",
          "name": "stdout",
          "text": [
            "JQ247408.1: 91 мутаций\n",
            "KX459697.1: 81 мутаций\n",
            "KP172434.1: 92 мутаций\n",
            "JF499899.1: 81 мутаций\n",
            "KP017255.1: 86 мутаций\n",
            "JF811749.1: 83 мутаций\n",
            "KP172432.1: 86 мутаций\n",
            "JN084079.1: 85 мутаций\n",
            "HQ259121.1: 86 мутаций\n",
            "KU521454.1: 89 мутаций\n",
            "KY934476.1: 80 мутаций\n",
            "KY077676.1: 78 мутаций\n",
            "KP340170.1: 81 мутаций\n",
            "KY348642.1: 91 мутаций\n",
            "GU590993.1: 85 мутаций\n",
            "KY369152.2: 86 мутаций\n",
            "HQ914447.1: 89 мутаций\n",
            "KX440262.1: 96 мутаций\n",
            "KX440275.1: 91 мутаций\n",
            "KT698008.1: 89 мутаций\n",
            "HQ189135.1: 86 мутаций\n",
            "KR135883.1: 73 мутаций\n",
            "KR135861.1: 94 мутаций\n",
            "KT819263.1: 75 мутаций\n",
            "KM986608.1: 79 мутаций\n",
            "KM986625.1: 80 мутаций\n",
            "KY686209.1: 83 мутаций\n",
            "KM986616.1: 87 мутаций\n",
            "JN084084.1: 84 мутаций\n",
            "KY303770.1: 89 мутаций\n",
            "KY686210.1: 85 мутаций\n",
            "JF837819.1: 85 мутаций\n",
            "KX440315.1: 91 мутаций\n",
            "JN419195.1: 90 мутаций\n",
            "KT698006.1: 93 мутаций\n",
            "HM804485.1: 87 мутаций\n",
            "JF343123.1: 80 мутаций\n",
            "KY496869.1: 86 мутаций\n",
            "KU508374.1: 83 мутаций\n",
            "KY934478.1: 87 мутаций\n",
            "HM453712.1: 78 мутаций\n",
            "HM448049.1: 82 мутаций\n",
            "KU521494.1: 81 мутаций\n",
            "KU521491.1: 81 мутаций\n",
            "Максимальное количество мутаций: 96 (последовательность KX440262.1)\n",
            "Оценочный возраст митохондриальной Евы: 144000 лет\n"
          ]
        }
      ]
    },
    {
      "cell_type": "markdown",
      "source": [
        "**Оценка времени разделения неандертальцев и денисовцев**"
      ],
      "metadata": {
        "id": "2Jwcuoes904y"
      }
    },
    {
      "cell_type": "code",
      "source": [
        "from Bio import AlignIO\n",
        "from ete3 import Tree\n",
        "\n",
        "# Пути к файлам\n",
        "alignment_file = \"/content/aligned.fasta\"\n",
        "tree_file = \"/content/extended_alignment.fasta.treefile\"\n",
        "extended_alignment_file = \"/content/extended_alignment.fasta\"\n",
        "\n",
        "# Чтение филогенетического дерева\n",
        "tree = Tree(tree_file)\n",
        "\n",
        "# Замена идентификаторов\n",
        "neanderthal_seqs = [\"KX198086.1\", \"KX198087.1\"]\n",
        "denisovan_seqs = [\"KT780370.1\", \"FN673705.1\", \"FR695060.1\"]\n",
        "\n",
        "# Найдем минимальное расстояние между ветвями с неандертальцами и денисовцами\n",
        "min_distance = float('inf')\n",
        "\n",
        "# Проверяем существование узлов в дереве\n",
        "for neanderthal in neanderthal_seqs:\n",
        "    if neanderthal not in tree.get_leaf_names():\n",
        "        print(f\"Узел не найден: {neanderthal}\")\n",
        "\n",
        "for denisovan in denisovan_seqs:\n",
        "    if denisovan not in tree.get_leaf_names():\n",
        "        print(f\"Узел не найден: {denisovan}\")\n",
        "\n",
        "# Если все узлы найдены, продолжаем\n",
        "for neanderthal in neanderthal_seqs:\n",
        "    for denisovan in denisovan_seqs:\n",
        "        if neanderthal in tree.get_leaf_names() and denisovan in tree.get_leaf_names():\n",
        "            distance = tree.get_distance(neanderthal, denisovan)\n",
        "            if distance < min_distance:\n",
        "                min_distance = distance\n",
        "\n",
        "print(f\"Эволюционное расстояние между неандертальцами и денисовцами: {min_distance}\")\n",
        "\n",
        "# Чтение выравнивания последовательностей\n",
        "alignment = AlignIO.read(extended_alignment_file, \"fasta\")\n",
        "\n",
        "# Достаем последовательности неандертальцев и денисовцев\n",
        "sequences = {record.id: str(record.seq) for record in alignment}\n",
        "\n",
        "# Выбираем первую последовательность неандертальца и денисовца\n",
        "neanderthal_seq = sequences[neanderthal_seqs[0]]\n",
        "denisovan_seq = sequences[denisovan_seqs[0]]\n",
        "\n",
        "# Подсчет количества мутаций между последовательностями\n",
        "def count_mutations(seq1, seq2):\n",
        "    mutations = sum(1 for a, b in zip(seq1, seq2) if a != b and a != '-' and b != '-')\n",
        "    return mutations\n",
        "\n",
        "mutations = count_mutations(neanderthal_seq, denisovan_seq)\n",
        "print(f\"Количество мутаций между неандертальцем и денисовцем: {mutations}\")\n",
        "\n",
        "# Скорость мутаций (мутаций на год)\n",
        "mutation_rate = 1 / 3000  # Например, 1 мутация на 3000 лет, как это делали с Евой\n",
        "\n",
        "# Расчет времени разделения\n",
        "# Возраст = (количество мутаций) / (2 * скорость мутаций)\n",
        "estimated_age = mutations / (2 * mutation_rate)\n",
        "print(f\"Оцененное время разделения неандертальцев и денисовцев: {estimated_age:.0f} лет\")\n"
      ],
      "metadata": {
        "colab": {
          "base_uri": "https://localhost:8080/"
        },
        "id": "OX6KvSMQ-FPa",
        "outputId": "d62272ee-bc1a-48c9-fdf0-bcedf6b93d56"
      },
      "execution_count": 16,
      "outputs": [
        {
          "output_type": "stream",
          "name": "stdout",
          "text": [
            "Эволюционное расстояние между неандертальцами и денисовцами: 0.027373280700000002\n",
            "Количество мутаций между неандертальцем и денисовцем: 362\n",
            "Оцененное время разделения неандертальцев и денисовцев: 543000 лет\n"
          ]
        }
      ]
    }
  ]
}